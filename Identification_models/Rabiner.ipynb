{
 "cells": [
  {
   "cell_type": "markdown",
   "metadata": {},
   "source": [
    "## Разработка метода Рабинера для идентифиакации матриц по последовательностям  \n",
    "\n",
    "Имеем следующие классы стохастических матриц:  \n",
    "\n",
    "1) Положительные  \n",
    "2) Дважды стохастические  \n",
    "3) С локальными вероятностными переходами  \n",
    "4) Квазитреугольные (верхние и нижние)  \n",
    "5) Блочно-сообщающиеся (правые и левые)  \n",
    "6) Разреженные с энтропией, равной 0,2; 0,4; 0,6  \n",
    "\n",
    "Импортируем необходимые библиотеки"
   ]
  },
  {
   "cell_type": "code",
   "execution_count": 423,
   "metadata": {},
   "outputs": [],
   "source": [
    "import math\n",
    "import pandas as pd\n",
    "import numpy as np\n",
    "import random\n",
    "import quantecon as qe\n",
    "import openpyxl\n",
    "from openpyxl.writer.excel import save_workbook\n",
    "from sklearn.ensemble import RandomForestClassifier\n",
    "from sklearn.linear_model import LogisticRegression\n",
    "from sklearn.linear_model import LinearRegression\n",
    "from sklearn.multiclass import OneVsRestClassifier\n",
    "from sklearn.svm import LinearSVC\n",
    "from sklearn.multiclass import OneVsOneClassifier\n",
    "from sklearn.metrics import roc_auc_score\n",
    "from sklearn.metrics import classification_report\n",
    "from sklearn.metrics import confusion_matrix\n",
    "from sklearn.model_selection import train_test_split\n",
    "from sklearn.multiclass import OutputCodeClassifier\n",
    "import tensorflow as tf\n",
    "from tensorflow import keras\n",
    "from keras import layers\n",
    "from keras.models import Sequential\n",
    "from keras.layers import Dense, Dropout, LSTM\n",
    "from keras.utils import np_utils\n",
    "from sklearn.metrics import accuracy_score\n",
    "import matplotlib.pyplot as plt"
   ]
  },
  {
   "cell_type": "markdown",
   "metadata": {},
   "source": [
    "Считаем начальный вектор pi"
   ]
  },
  {
   "cell_type": "code",
   "execution_count": 2,
   "metadata": {},
   "outputs": [],
   "source": [
    "def get_vector_pi(matrix, q):\n",
    "    \n",
    "    pi = []\n",
    "    l = len(matrix[0])\n",
    "\n",
    "    for i in range(0, l):\n",
    "        if i == q[0]:\n",
    "            pi.append(1)\n",
    "        else:\n",
    "            pi.append(0)\n",
    "    \n",
    "    return pi"
   ]
  },
  {
   "cell_type": "markdown",
   "metadata": {},
   "source": [
    "Считаем вектора а"
   ]
  },
  {
   "cell_type": "code",
   "execution_count": 3,
   "metadata": {},
   "outputs": [],
   "source": [
    "def get_a_vectors(matrix, q, ar):\n",
    "\n",
    "    res = []\n",
    "    s = 0\n",
    "\n",
    "    for i in range(1, len(q)):\n",
    "        for j in range(0, len(matrix)):\n",
    "            if q[i] == j:\n",
    "                for k in range(0, len(ar[0])):\n",
    "                    s = s + ar[i-1][k] * matrix[k][j]\n",
    "                res.append(s)\n",
    "                s = 0\n",
    "            else:\n",
    "                res.append(0)\n",
    "        ar.append(res)\n",
    "        res = []\n",
    "    \n",
    "    return ar"
   ]
  },
  {
   "cell_type": "markdown",
   "metadata": {},
   "source": [
    "Считаем вероятность принадлежности последовательности к матрице"
   ]
  },
  {
   "cell_type": "code",
   "execution_count": 4,
   "metadata": {},
   "outputs": [],
   "source": [
    "def calculate_p(ar):\n",
    "    return sum(ar[-1])"
   ]
  },
  {
   "cell_type": "markdown",
   "metadata": {},
   "source": [
    "Собираем все функции воедино"
   ]
  },
  {
   "cell_type": "code",
   "execution_count": 5,
   "metadata": {},
   "outputs": [],
   "source": [
    "def get_p(matrix, q):\n",
    "    \n",
    "    ar = []\n",
    "    pi = get_vector_pi(matrix, q)\n",
    "    ar.append(pi)\n",
    "    ar = get_a_vectors(matrix, q, ar)\n",
    "    p = calculate_p(ar)\n",
    "    return p"
   ]
  },
  {
   "cell_type": "markdown",
   "metadata": {},
   "source": [
    "### Результаты работы метода Рабинера в зависимости от длин последовательностей\n",
    "\n",
    "Генерируем последовательности и матрицы"
   ]
  },
  {
   "cell_type": "code",
   "execution_count": 7,
   "metadata": {},
   "outputs": [],
   "source": [
    "def transition_matrix(transitions):\n",
    "    n = 1 + max(transitions)\n",
    "    M = [[0]*n for _ in range(n)]\n",
    "    \n",
    "    for (i,j) in zip(transitions,transitions[1:]):\n",
    "        M[i][j] += 1\n",
    "        \n",
    "    for row in M:\n",
    "        s = sum(row)\n",
    "        if s > 0:\n",
    "            row[:] = [f/s for f in row]\n",
    "    return M"
   ]
  },
  {
   "cell_type": "markdown",
   "metadata": {},
   "source": [
    "Создаем датасет с вероятностями, вычисленных по методу Рабинера"
   ]
  },
  {
   "cell_type": "code",
   "execution_count": 10,
   "metadata": {},
   "outputs": [
    {
     "data": {
      "text/plain": [
       "True"
      ]
     },
     "execution_count": 10,
     "metadata": {},
     "output_type": "execute_result"
    }
   ],
   "source": [
    "wb = openpyxl.load_workbook('Rabiner_dataset.xlsx')  \n",
    "ws = wb.active\n",
    "\n",
    "ws.cell(column=1,row=1).value = 'p для n = 10'\n",
    "ws.cell(column=2,row=1).value = 'p для n = 20'\n",
    "ws.cell(column=3,row=1).value = 'p для n = 30'\n",
    "ws.cell(column=4,row=1).value = 'p для n = 40'\n",
    "ws.cell(column=5,row=1).value = 'p для n = 50'\n",
    "ws.cell(column=6,row=1).value = 'p для n = 60'\n",
    "ws.cell(column=7,row=1).value = 'p для n = 70'\n",
    "ws.cell(column=8,row=1).value = 'p для n = 80'\n",
    "ws.cell(column=9,row=1).value = 'p для n = 90'\n",
    "ws.cell(column=10,row=1).value = 'p для n = 100'\n",
    "ws.cell(column=11,row=1).value = 'класс'\n",
    "\n",
    "save_workbook(wb, 'Rabiner_dataset.xlsx')  "
   ]
  },
  {
   "cell_type": "markdown",
   "metadata": {},
   "source": [
    "Считаем вероятности и собираем их в датасет. На место переменныхх matrix, r и c вставляем новые переменные"
   ]
  },
  {
   "cell_type": "code",
   "execution_count": 404,
   "metadata": {},
   "outputs": [],
   "source": [
    "matrix = np.array([\n",
    "    [0.000, 0.000, 0.014, 0.970, 0.016],\n",
    "[0.000, 0.000, 0.415, 0.412, 0.173],\n",
    "[0.000, 0.000, 0.397, 0.354, 0.249],\n",
    "[0.356, 0.644, 0.000, 0.000, 0.000],\n",
    "[0.502, 0.498, 0.000, 0.000, 0.000]\n",
    "])\n",
    "\n",
    "mc = qe.MarkovChain(matrix)\n",
    "k = mc.simulate(100, init=0)\n",
    "m = transition_matrix(k)"
   ]
  },
  {
   "cell_type": "code",
   "execution_count": 405,
   "metadata": {},
   "outputs": [],
   "source": [
    "p = get_p(m, k)"
   ]
  },
  {
   "cell_type": "code",
   "execution_count": 407,
   "metadata": {},
   "outputs": [
    {
     "data": {
      "text/plain": [
       "True"
      ]
     },
     "execution_count": 407,
     "metadata": {},
     "output_type": "execute_result"
    }
   ],
   "source": [
    "wb = openpyxl.load_workbook('Rabiner_dataset.xlsx')  \n",
    "ws = wb.active\n",
    "r = 12\n",
    "c = 11\n",
    "\n",
    "ws.cell(column=c,row=r).value = 'Бл'\n",
    "\n",
    "save_workbook(wb, 'Rabiner_dataset.xlsx')  "
   ]
  },
  {
   "cell_type": "markdown",
   "metadata": {},
   "source": [
    "Итоговый датасет"
   ]
  },
  {
   "cell_type": "code",
   "execution_count": 408,
   "metadata": {},
   "outputs": [
    {
     "data": {
      "text/html": [
       "<div>\n",
       "<style scoped>\n",
       "    .dataframe tbody tr th:only-of-type {\n",
       "        vertical-align: middle;\n",
       "    }\n",
       "\n",
       "    .dataframe tbody tr th {\n",
       "        vertical-align: top;\n",
       "    }\n",
       "\n",
       "    .dataframe thead th {\n",
       "        text-align: right;\n",
       "    }\n",
       "</style>\n",
       "<table border=\"1\" class=\"dataframe\">\n",
       "  <thead>\n",
       "    <tr style=\"text-align: right;\">\n",
       "      <th></th>\n",
       "      <th>p для n = 10</th>\n",
       "      <th>p для n = 20</th>\n",
       "      <th>p для n = 30</th>\n",
       "      <th>p для n = 40</th>\n",
       "      <th>p для n = 50</th>\n",
       "      <th>p для n = 60</th>\n",
       "      <th>p для n = 70</th>\n",
       "      <th>p для n = 80</th>\n",
       "      <th>p для n = 90</th>\n",
       "      <th>p для n = 100</th>\n",
       "      <th>класс</th>\n",
       "    </tr>\n",
       "  </thead>\n",
       "  <tbody>\n",
       "    <tr>\n",
       "      <th>0</th>\n",
       "      <td>0.017379</td>\n",
       "      <td>3.136432e-04</td>\n",
       "      <td>3.941825e-07</td>\n",
       "      <td>4.883007e-07</td>\n",
       "      <td>5.335751e-12</td>\n",
       "      <td>9.776646e-16</td>\n",
       "      <td>5.742416e-13</td>\n",
       "      <td>5.562241e-19</td>\n",
       "      <td>1.886856e-22</td>\n",
       "      <td>4.270183e-23</td>\n",
       "      <td>Р положит (резк)</td>\n",
       "    </tr>\n",
       "    <tr>\n",
       "      <th>1</th>\n",
       "      <td>0.000977</td>\n",
       "      <td>1.638400e-06</td>\n",
       "      <td>1.639216e-09</td>\n",
       "      <td>1.126951e-13</td>\n",
       "      <td>2.103738e-21</td>\n",
       "      <td>1.716755e-22</td>\n",
       "      <td>5.408517e-26</td>\n",
       "      <td>2.494754e-29</td>\n",
       "      <td>3.855916e-36</td>\n",
       "      <td>3.608309e-40</td>\n",
       "      <td>Бп</td>\n",
       "    </tr>\n",
       "    <tr>\n",
       "      <th>2</th>\n",
       "      <td>0.009259</td>\n",
       "      <td>7.589160e-08</td>\n",
       "      <td>1.705591e-15</td>\n",
       "      <td>3.374419e-21</td>\n",
       "      <td>3.053012e-26</td>\n",
       "      <td>9.708458e-34</td>\n",
       "      <td>1.415891e-39</td>\n",
       "      <td>3.338225e-44</td>\n",
       "      <td>1.847934e-49</td>\n",
       "      <td>2.040470e-60</td>\n",
       "      <td>Р положит (плав)</td>\n",
       "    </tr>\n",
       "    <tr>\n",
       "      <th>3</th>\n",
       "      <td>0.062500</td>\n",
       "      <td>8.372449e-08</td>\n",
       "      <td>1.072235e-14</td>\n",
       "      <td>5.832000e-22</td>\n",
       "      <td>4.297159e-26</td>\n",
       "      <td>1.374153e-30</td>\n",
       "      <td>2.650172e-42</td>\n",
       "      <td>1.016281e-42</td>\n",
       "      <td>5.397776e-52</td>\n",
       "      <td>1.493750e-59</td>\n",
       "      <td>Д</td>\n",
       "    </tr>\n",
       "    <tr>\n",
       "      <th>4</th>\n",
       "      <td>0.008640</td>\n",
       "      <td>1.405400e-04</td>\n",
       "      <td>1.644101e-08</td>\n",
       "      <td>6.612154e-12</td>\n",
       "      <td>1.528149e-17</td>\n",
       "      <td>4.482473e-22</td>\n",
       "      <td>5.964056e-23</td>\n",
       "      <td>5.802250e-27</td>\n",
       "      <td>1.081674e-27</td>\n",
       "      <td>4.179302e-32</td>\n",
       "      <td>Лп</td>\n",
       "    </tr>\n",
       "    <tr>\n",
       "      <th>5</th>\n",
       "      <td>0.000759</td>\n",
       "      <td>7.429485e-06</td>\n",
       "      <td>1.644795e-14</td>\n",
       "      <td>9.855719e-15</td>\n",
       "      <td>4.817092e-24</td>\n",
       "      <td>1.414774e-29</td>\n",
       "      <td>1.213477e-32</td>\n",
       "      <td>1.926097e-36</td>\n",
       "      <td>1.288968e-44</td>\n",
       "      <td>3.931787e-52</td>\n",
       "      <td>Н_20</td>\n",
       "    </tr>\n",
       "    <tr>\n",
       "      <th>6</th>\n",
       "      <td>0.037037</td>\n",
       "      <td>6.437302e-06</td>\n",
       "      <td>5.439105e-08</td>\n",
       "      <td>4.183312e-15</td>\n",
       "      <td>6.437213e-17</td>\n",
       "      <td>8.748693e-17</td>\n",
       "      <td>3.580116e-23</td>\n",
       "      <td>3.210640e-31</td>\n",
       "      <td>5.696184e-28</td>\n",
       "      <td>5.756737e-32</td>\n",
       "      <td>Н_40</td>\n",
       "    </tr>\n",
       "    <tr>\n",
       "      <th>7</th>\n",
       "      <td>0.003252</td>\n",
       "      <td>1.703535e-03</td>\n",
       "      <td>3.606892e-03</td>\n",
       "      <td>2.387335e-05</td>\n",
       "      <td>2.024945e-05</td>\n",
       "      <td>7.881069e-08</td>\n",
       "      <td>2.020797e-05</td>\n",
       "      <td>1.109338e-06</td>\n",
       "      <td>2.241976e-12</td>\n",
       "      <td>7.650666e-17</td>\n",
       "      <td>Н_60</td>\n",
       "    </tr>\n",
       "    <tr>\n",
       "      <th>8</th>\n",
       "      <td>0.016745</td>\n",
       "      <td>4.153950e-05</td>\n",
       "      <td>4.606524e-09</td>\n",
       "      <td>1.226152e-13</td>\n",
       "      <td>4.229767e-15</td>\n",
       "      <td>7.711240e-16</td>\n",
       "      <td>1.320015e-14</td>\n",
       "      <td>6.043325e-24</td>\n",
       "      <td>1.462769e-23</td>\n",
       "      <td>8.560054e-26</td>\n",
       "      <td>Тв</td>\n",
       "    </tr>\n",
       "    <tr>\n",
       "      <th>9</th>\n",
       "      <td>0.250000</td>\n",
       "      <td>6.018210e-06</td>\n",
       "      <td>2.948075e-04</td>\n",
       "      <td>5.877312e-10</td>\n",
       "      <td>4.642315e-17</td>\n",
       "      <td>8.844076e-15</td>\n",
       "      <td>2.619756e-07</td>\n",
       "      <td>2.372787e-12</td>\n",
       "      <td>1.792801e-17</td>\n",
       "      <td>1.792801e-17</td>\n",
       "      <td>Тн</td>\n",
       "    </tr>\n",
       "    <tr>\n",
       "      <th>10</th>\n",
       "      <td>0.037037</td>\n",
       "      <td>2.109375e-06</td>\n",
       "      <td>2.427259e-07</td>\n",
       "      <td>2.553389e-12</td>\n",
       "      <td>1.766085e-15</td>\n",
       "      <td>5.586988e-16</td>\n",
       "      <td>3.878366e-20</td>\n",
       "      <td>1.598472e-25</td>\n",
       "      <td>8.528630e-27</td>\n",
       "      <td>1.364521e-27</td>\n",
       "      <td>Бл</td>\n",
       "    </tr>\n",
       "  </tbody>\n",
       "</table>\n",
       "</div>"
      ],
      "text/plain": [
       "    p для n = 10  p для n = 20  p для n = 30  p для n = 40  p для n = 50  \\\n",
       "0       0.017379  3.136432e-04  3.941825e-07  4.883007e-07  5.335751e-12   \n",
       "1       0.000977  1.638400e-06  1.639216e-09  1.126951e-13  2.103738e-21   \n",
       "2       0.009259  7.589160e-08  1.705591e-15  3.374419e-21  3.053012e-26   \n",
       "3       0.062500  8.372449e-08  1.072235e-14  5.832000e-22  4.297159e-26   \n",
       "4       0.008640  1.405400e-04  1.644101e-08  6.612154e-12  1.528149e-17   \n",
       "5       0.000759  7.429485e-06  1.644795e-14  9.855719e-15  4.817092e-24   \n",
       "6       0.037037  6.437302e-06  5.439105e-08  4.183312e-15  6.437213e-17   \n",
       "7       0.003252  1.703535e-03  3.606892e-03  2.387335e-05  2.024945e-05   \n",
       "8       0.016745  4.153950e-05  4.606524e-09  1.226152e-13  4.229767e-15   \n",
       "9       0.250000  6.018210e-06  2.948075e-04  5.877312e-10  4.642315e-17   \n",
       "10      0.037037  2.109375e-06  2.427259e-07  2.553389e-12  1.766085e-15   \n",
       "\n",
       "    p для n = 60  p для n = 70  p для n = 80  p для n = 90  p для n = 100  \\\n",
       "0   9.776646e-16  5.742416e-13  5.562241e-19  1.886856e-22   4.270183e-23   \n",
       "1   1.716755e-22  5.408517e-26  2.494754e-29  3.855916e-36   3.608309e-40   \n",
       "2   9.708458e-34  1.415891e-39  3.338225e-44  1.847934e-49   2.040470e-60   \n",
       "3   1.374153e-30  2.650172e-42  1.016281e-42  5.397776e-52   1.493750e-59   \n",
       "4   4.482473e-22  5.964056e-23  5.802250e-27  1.081674e-27   4.179302e-32   \n",
       "5   1.414774e-29  1.213477e-32  1.926097e-36  1.288968e-44   3.931787e-52   \n",
       "6   8.748693e-17  3.580116e-23  3.210640e-31  5.696184e-28   5.756737e-32   \n",
       "7   7.881069e-08  2.020797e-05  1.109338e-06  2.241976e-12   7.650666e-17   \n",
       "8   7.711240e-16  1.320015e-14  6.043325e-24  1.462769e-23   8.560054e-26   \n",
       "9   8.844076e-15  2.619756e-07  2.372787e-12  1.792801e-17   1.792801e-17   \n",
       "10  5.586988e-16  3.878366e-20  1.598472e-25  8.528630e-27   1.364521e-27   \n",
       "\n",
       "               класс  \n",
       "0   Р положит (резк)  \n",
       "1                 Бп  \n",
       "2   Р положит (плав)  \n",
       "3                  Д  \n",
       "4                 Лп  \n",
       "5               Н_20  \n",
       "6               Н_40  \n",
       "7               Н_60  \n",
       "8                 Тв  \n",
       "9                 Тн  \n",
       "10                Бл  "
      ]
     },
     "execution_count": 408,
     "metadata": {},
     "output_type": "execute_result"
    }
   ],
   "source": [
    "data = pd.read_excel('Rabiner_dataset.xlsx')\n",
    "data"
   ]
  },
  {
   "cell_type": "markdown",
   "metadata": {},
   "source": [
    "Строим графики зависимости значения вероятности от длины последовательности для каждого класса"
   ]
  },
  {
   "cell_type": "code",
   "execution_count": 426,
   "metadata": {},
   "outputs": [
    {
     "data": {
      "image/png": "[encoded data removed]",
      "text/plain": [
       "<Figure size 432x288 with 1 Axes>"
      ]
     },
     "metadata": {
      "needs_background": "light"
     },
     "output_type": "display_data"
    },
    {
     "data": {
      "image/png": "[encoded data removed]",
      "text/plain": [
       "<Figure size 432x288 with 1 Axes>"
      ]
     },
     "metadata": {
      "needs_background": "light"
     },
     "output_type": "display_data"
    },
    {
     "data": {
      "image/png": "[encoded data removed]",
      "text/plain": [
       "<Figure size 432x288 with 1 Axes>"
      ]
     },
     "metadata": {
      "needs_background": "light"
     },
     "output_type": "display_data"
    },
    {
     "data": {
      "image/png": "[encoded data removed]",
      "text/plain": [
       "<Figure size 432x288 with 1 Axes>"
      ]
     },
     "metadata": {
      "needs_background": "light"
     },
     "output_type": "display_data"
    },
    {
     "data": {
      "image/png": "[encoded data removed]",
      "text/plain": [
       "<Figure size 432x288 with 1 Axes>"
      ]
     },
     "metadata": {
      "needs_background": "light"
     },
     "output_type": "display_data"
    },
    {
     "data": {
      "image/png": "[encoded data removed]",
      "text/plain": [
       "<Figure size 432x288 with 1 Axes>"
      ]
     },
     "metadata": {
      "needs_background": "light"
     },
     "output_type": "display_data"
    },
    {
     "data": {
      "image/png": "[encoded data removed]",
      "text/plain": [
       "<Figure size 432x288 with 1 Axes>"
      ]
     },
     "metadata": {
      "needs_background": "light"
     },
     "output_type": "display_data"
    },
    {
     "data": {
      "image/png": "[encoded data removed]",
      "text/plain": [
       "<Figure size 432x288 with 1 Axes>"
      ]
     },
     "metadata": {
      "needs_background": "light"
     },
     "output_type": "display_data"
    },
    {
     "data": {
      "image/png": "[encoded data removed]",
      "text/plain": [
       "<Figure size 432x288 with 1 Axes>"
      ]
     },
     "metadata": {
      "needs_background": "light"
     },
     "output_type": "display_data"
    },
    {
     "data": {
      "image/png": "[encoded data removed]",
      "text/plain": [
       "<Figure size 432x288 with 1 Axes>"
      ]
     },
     "metadata": {
      "needs_background": "light"
     },
     "output_type": "display_data"
    },
    {
     "data": {
      "image/png": "[encoded data removed]",
      "text/plain": [
       "<Figure size 432x288 with 1 Axes>"
      ]
     },
     "metadata": {
      "needs_background": "light"
     },
     "output_type": "display_data"
    }
   ],
   "source": [
    "for i in range(0, 11):\n",
    "    plt.figure()\n",
    "    plt.title(data.iloc[i,:][10], fontsize=14, fontname='Times New Roman')\n",
    "    plt.plot([10, 20, 30, 40, 50, 60, 70, 80, 90, 100], [data.iloc[i,:][0], data.iloc[i,:][1], data.iloc[i,:][2], \\\n",
    "                                                        data.iloc[i,:][3], data.iloc[i,:][4], data.iloc[i,:][5], \\\n",
    "                                                        data.iloc[i,:][6], data.iloc[i,:][7], data.iloc[i,:][8], \\\n",
    "                                                        data.iloc[i,:][9]])\n",
    "    plt.savefig(f'{data.iloc[i,:][10]}.png')"
   ]
  },
  {
   "cell_type": "markdown",
   "metadata": {},
   "source": [
    "## Вывод  \n",
    "\n",
    "Таким образом, удалось разработать метод Рабинера и проверить его работу на последовательностях разных длин. В целом видно, что чем больше длина последовательности, тем меньше значения вероятности принадлежности последовательности к матрице определенного класса."
   ]
  },
  {
   "cell_type": "code",
   "execution_count": null,
   "metadata": {},
   "outputs": [],
   "source": []
  }
 ],
 "metadata": {
  "kernelspec": {
   "display_name": "Python 3",
   "language": "python",
   "name": "python3"
  },
  "language_info": {
   "codemirror_mode": {
    "name": "ipython",
    "version": 3
   },
   "file_extension": ".py",
   "mimetype": "text/x-python",
   "name": "python",
   "nbconvert_exporter": "python",
   "pygments_lexer": "ipython3",
   "version": "3.8.3"
  }
 },
 "nbformat": 4,
 "nbformat_minor": 4
}
